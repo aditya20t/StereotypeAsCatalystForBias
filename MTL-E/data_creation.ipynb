{
 "cells": [
  {
   "cell_type": "code",
   "execution_count": 261,
   "id": "73d3e83a",
   "metadata": {},
   "outputs": [],
   "source": [
    "import pandas as pd\n",
    "import numpy as np\n",
    "from sklearn.model_selection import train_test_split, StratifiedKFold"
   ]
  },
  {
   "cell_type": "code",
   "execution_count": 262,
   "id": "2a75d6ac",
   "metadata": {},
   "outputs": [],
   "source": [
    "#read the csv files\n",
    "\n",
    "hyperbole_df = pd.read_csv(\"data/ACL_dataset - HYPO.csv\")\n",
    "metaphor_df = pd.read_csv('data/ACL_dataset - LCC_Label_Balanced.csv')\n",
    "\n",
    "hyperbole_df = hyperbole_df.sample(frac=1, random_state=42).reset_index(drop=True)\n",
    "hyperbole_df = hyperbole_df.dropna(axis=0).reset_index(drop=True)\n",
    "\n",
    "metaphor_df = metaphor_df.sample(frac=1, random_state=42).reset_index(drop=True)\n",
    "metaphor_df = metaphor_df.dropna(axis=0).reset_index(drop=True)\n",
    "\n",
    "hyperbole_df[\"Hyperbole\"] = hyperbole_df[\"Hyperbole\"].astype(\"int\")\n",
    "hyperbole_df[\"Metaphor\"] = hyperbole_df[\"Metaphor\"].astype(\"int\")\n",
    "\n",
    "metaphor_df[\"Hyperbole\"] = metaphor_df[\"Hyperbole\"].astype(\"int\")\n",
    "metaphor_df[\"Metaphor\"] = metaphor_df[\"Metaphor\"].astype(\"int\")"
   ]
  },
  {
   "cell_type": "code",
   "execution_count": 263,
   "id": "604828b2",
   "metadata": {},
   "outputs": [
    {
     "data": {
      "text/html": [
       "<div>\n",
       "<style scoped>\n",
       "    .dataframe tbody tr th:only-of-type {\n",
       "        vertical-align: middle;\n",
       "    }\n",
       "\n",
       "    .dataframe tbody tr th {\n",
       "        vertical-align: top;\n",
       "    }\n",
       "\n",
       "    .dataframe thead th {\n",
       "        text-align: right;\n",
       "    }\n",
       "</style>\n",
       "<table border=\"1\" class=\"dataframe\">\n",
       "  <thead>\n",
       "    <tr style=\"text-align: right;\">\n",
       "      <th></th>\n",
       "      <th>Sentence</th>\n",
       "      <th>Hyperbole</th>\n",
       "      <th>Metaphor</th>\n",
       "    </tr>\n",
       "  </thead>\n",
       "  <tbody>\n",
       "    <tr>\n",
       "      <th>0</th>\n",
       "      <td>Insolent boy, I'll slash you to ribbons!</td>\n",
       "      <td>1</td>\n",
       "      <td>1</td>\n",
       "    </tr>\n",
       "    <tr>\n",
       "      <th>1</th>\n",
       "      <td>The level of discombobulation in the realm of ...</td>\n",
       "      <td>1</td>\n",
       "      <td>1</td>\n",
       "    </tr>\n",
       "    <tr>\n",
       "      <th>2</th>\n",
       "      <td>His eyes were very dark.</td>\n",
       "      <td>0</td>\n",
       "      <td>0</td>\n",
       "    </tr>\n",
       "    <tr>\n",
       "      <th>3</th>\n",
       "      <td>It's been a long time since I found someone ni...</td>\n",
       "      <td>0</td>\n",
       "      <td>0</td>\n",
       "    </tr>\n",
       "    <tr>\n",
       "      <th>4</th>\n",
       "      <td>Oh, you are soaked to the bone, monsieur.</td>\n",
       "      <td>1</td>\n",
       "      <td>1</td>\n",
       "    </tr>\n",
       "  </tbody>\n",
       "</table>\n",
       "</div>"
      ],
      "text/plain": [
       "                                            Sentence  Hyperbole  Metaphor\n",
       "0           Insolent boy, I'll slash you to ribbons!          1         1\n",
       "1  The level of discombobulation in the realm of ...          1         1\n",
       "2                           His eyes were very dark.          0         0\n",
       "3  It's been a long time since I found someone ni...          0         0\n",
       "4          Oh, you are soaked to the bone, monsieur.          1         1"
      ]
     },
     "execution_count": 263,
     "metadata": {},
     "output_type": "execute_result"
    }
   ],
   "source": [
    "hyperbole_df.head()"
   ]
  },
  {
   "cell_type": "code",
   "execution_count": 264,
   "id": "89044214",
   "metadata": {},
   "outputs": [
    {
     "data": {
      "text/html": [
       "<div>\n",
       "<style scoped>\n",
       "    .dataframe tbody tr th:only-of-type {\n",
       "        vertical-align: middle;\n",
       "    }\n",
       "\n",
       "    .dataframe tbody tr th {\n",
       "        vertical-align: top;\n",
       "    }\n",
       "\n",
       "    .dataframe thead th {\n",
       "        text-align: right;\n",
       "    }\n",
       "</style>\n",
       "<table border=\"1\" class=\"dataframe\">\n",
       "  <thead>\n",
       "    <tr style=\"text-align: right;\">\n",
       "      <th></th>\n",
       "      <th>Sentence</th>\n",
       "      <th>Hyperbole</th>\n",
       "      <th>Metaphor</th>\n",
       "    </tr>\n",
       "  </thead>\n",
       "  <tbody>\n",
       "    <tr>\n",
       "      <th>0</th>\n",
       "      <td>\"They are the blood of the election process ,\"...</td>\n",
       "      <td>1</td>\n",
       "      <td>1</td>\n",
       "    </tr>\n",
       "    <tr>\n",
       "      <th>1</th>\n",
       "      <td>With 70 percent of them receiving a free or re...</td>\n",
       "      <td>1</td>\n",
       "      <td>1</td>\n",
       "    </tr>\n",
       "    <tr>\n",
       "      <th>2</th>\n",
       "      <td>\"This action reflects the board's belief that ...</td>\n",
       "      <td>0</td>\n",
       "      <td>1</td>\n",
       "    </tr>\n",
       "    <tr>\n",
       "      <th>3</th>\n",
       "      <td>You know who else carried a gun ?</td>\n",
       "      <td>0</td>\n",
       "      <td>0</td>\n",
       "    </tr>\n",
       "    <tr>\n",
       "      <th>4</th>\n",
       "      <td>Income Group Income Range Arizona State &amp; Loca...</td>\n",
       "      <td>0</td>\n",
       "      <td>1</td>\n",
       "    </tr>\n",
       "  </tbody>\n",
       "</table>\n",
       "</div>"
      ],
      "text/plain": [
       "                                            Sentence  Hyperbole  Metaphor\n",
       "0  \"They are the blood of the election process ,\"...          1         1\n",
       "1  With 70 percent of them receiving a free or re...          1         1\n",
       "2  \"This action reflects the board's belief that ...          0         1\n",
       "3                  You know who else carried a gun ?          0         0\n",
       "4  Income Group Income Range Arizona State & Loca...          0         1"
      ]
     },
     "execution_count": 264,
     "metadata": {},
     "output_type": "execute_result"
    }
   ],
   "source": [
    "metaphor_df.head()"
   ]
  },
  {
   "cell_type": "code",
   "execution_count": 265,
   "id": "765bf7e5",
   "metadata": {},
   "outputs": [
    {
     "name": "stdout",
     "output_type": "stream",
     "text": [
      "Hyperbole label columns:  ['Hyperbole', 'Metaphor']\n",
      "Metaphor label columns:  ['Hyperbole', 'Metaphor']\n"
     ]
    }
   ],
   "source": [
    "hyperbole_cols = hyperbole_df.columns\n",
    "hyperbole_label_cols = list(hyperbole_cols[1:])\n",
    "hyperbole_num_labels = len(hyperbole_label_cols)\n",
    "print('Hyperbole label columns: ', hyperbole_label_cols)\n",
    "\n",
    "metaphor_cols = metaphor_df.columns\n",
    "metaphor_label_cols = list(metaphor_cols[1:])\n",
    "metaphor_num_labels = len(metaphor_label_cols)\n",
    "print('Metaphor label columns: ', metaphor_label_cols)"
   ]
  },
  {
   "cell_type": "code",
   "execution_count": 266,
   "id": "36d52220",
   "metadata": {},
   "outputs": [],
   "source": [
    "hyperbole_df['one_hot_labels'] = list(hyperbole_df[hyperbole_label_cols].values)\n",
    "metaphor_df['one_hot_labels'] = list(metaphor_df[metaphor_label_cols].values)"
   ]
  },
  {
   "cell_type": "code",
   "execution_count": 267,
   "id": "dd48e72c",
   "metadata": {},
   "outputs": [
    {
     "data": {
      "text/html": [
       "<div>\n",
       "<style scoped>\n",
       "    .dataframe tbody tr th:only-of-type {\n",
       "        vertical-align: middle;\n",
       "    }\n",
       "\n",
       "    .dataframe tbody tr th {\n",
       "        vertical-align: top;\n",
       "    }\n",
       "\n",
       "    .dataframe thead th {\n",
       "        text-align: right;\n",
       "    }\n",
       "</style>\n",
       "<table border=\"1\" class=\"dataframe\">\n",
       "  <thead>\n",
       "    <tr style=\"text-align: right;\">\n",
       "      <th></th>\n",
       "      <th>Sentence</th>\n",
       "      <th>Hyperbole</th>\n",
       "      <th>Metaphor</th>\n",
       "      <th>one_hot_labels</th>\n",
       "    </tr>\n",
       "  </thead>\n",
       "  <tbody>\n",
       "    <tr>\n",
       "      <th>0</th>\n",
       "      <td>Insolent boy, I'll slash you to ribbons!</td>\n",
       "      <td>1</td>\n",
       "      <td>1</td>\n",
       "      <td>[1, 1]</td>\n",
       "    </tr>\n",
       "    <tr>\n",
       "      <th>1</th>\n",
       "      <td>The level of discombobulation in the realm of ...</td>\n",
       "      <td>1</td>\n",
       "      <td>1</td>\n",
       "      <td>[1, 1]</td>\n",
       "    </tr>\n",
       "    <tr>\n",
       "      <th>2</th>\n",
       "      <td>His eyes were very dark.</td>\n",
       "      <td>0</td>\n",
       "      <td>0</td>\n",
       "      <td>[0, 0]</td>\n",
       "    </tr>\n",
       "    <tr>\n",
       "      <th>3</th>\n",
       "      <td>It's been a long time since I found someone ni...</td>\n",
       "      <td>0</td>\n",
       "      <td>0</td>\n",
       "      <td>[0, 0]</td>\n",
       "    </tr>\n",
       "    <tr>\n",
       "      <th>4</th>\n",
       "      <td>Oh, you are soaked to the bone, monsieur.</td>\n",
       "      <td>1</td>\n",
       "      <td>1</td>\n",
       "      <td>[1, 1]</td>\n",
       "    </tr>\n",
       "  </tbody>\n",
       "</table>\n",
       "</div>"
      ],
      "text/plain": [
       "                                            Sentence  Hyperbole  Metaphor  \\\n",
       "0           Insolent boy, I'll slash you to ribbons!          1         1   \n",
       "1  The level of discombobulation in the realm of ...          1         1   \n",
       "2                           His eyes were very dark.          0         0   \n",
       "3  It's been a long time since I found someone ni...          0         0   \n",
       "4          Oh, you are soaked to the bone, monsieur.          1         1   \n",
       "\n",
       "  one_hot_labels  \n",
       "0         [1, 1]  \n",
       "1         [1, 1]  \n",
       "2         [0, 0]  \n",
       "3         [0, 0]  \n",
       "4         [1, 1]  "
      ]
     },
     "execution_count": 267,
     "metadata": {},
     "output_type": "execute_result"
    }
   ],
   "source": [
    "hyperbole_df.head()"
   ]
  },
  {
   "cell_type": "code",
   "execution_count": 268,
   "id": "0e4575f5",
   "metadata": {},
   "outputs": [
    {
     "data": {
      "text/html": [
       "<div>\n",
       "<style scoped>\n",
       "    .dataframe tbody tr th:only-of-type {\n",
       "        vertical-align: middle;\n",
       "    }\n",
       "\n",
       "    .dataframe tbody tr th {\n",
       "        vertical-align: top;\n",
       "    }\n",
       "\n",
       "    .dataframe thead th {\n",
       "        text-align: right;\n",
       "    }\n",
       "</style>\n",
       "<table border=\"1\" class=\"dataframe\">\n",
       "  <thead>\n",
       "    <tr style=\"text-align: right;\">\n",
       "      <th></th>\n",
       "      <th>Sentence</th>\n",
       "      <th>Hyperbole</th>\n",
       "      <th>Metaphor</th>\n",
       "      <th>one_hot_labels</th>\n",
       "    </tr>\n",
       "  </thead>\n",
       "  <tbody>\n",
       "    <tr>\n",
       "      <th>0</th>\n",
       "      <td>\"They are the blood of the election process ,\"...</td>\n",
       "      <td>1</td>\n",
       "      <td>1</td>\n",
       "      <td>[1, 1]</td>\n",
       "    </tr>\n",
       "    <tr>\n",
       "      <th>1</th>\n",
       "      <td>With 70 percent of them receiving a free or re...</td>\n",
       "      <td>1</td>\n",
       "      <td>1</td>\n",
       "      <td>[1, 1]</td>\n",
       "    </tr>\n",
       "    <tr>\n",
       "      <th>2</th>\n",
       "      <td>\"This action reflects the board's belief that ...</td>\n",
       "      <td>0</td>\n",
       "      <td>1</td>\n",
       "      <td>[0, 1]</td>\n",
       "    </tr>\n",
       "    <tr>\n",
       "      <th>3</th>\n",
       "      <td>You know who else carried a gun ?</td>\n",
       "      <td>0</td>\n",
       "      <td>0</td>\n",
       "      <td>[0, 0]</td>\n",
       "    </tr>\n",
       "    <tr>\n",
       "      <th>4</th>\n",
       "      <td>Income Group Income Range Arizona State &amp; Loca...</td>\n",
       "      <td>0</td>\n",
       "      <td>1</td>\n",
       "      <td>[0, 1]</td>\n",
       "    </tr>\n",
       "  </tbody>\n",
       "</table>\n",
       "</div>"
      ],
      "text/plain": [
       "                                            Sentence  Hyperbole  Metaphor  \\\n",
       "0  \"They are the blood of the election process ,\"...          1         1   \n",
       "1  With 70 percent of them receiving a free or re...          1         1   \n",
       "2  \"This action reflects the board's belief that ...          0         1   \n",
       "3                  You know who else carried a gun ?          0         0   \n",
       "4  Income Group Income Range Arizona State & Loca...          0         1   \n",
       "\n",
       "  one_hot_labels  \n",
       "0         [1, 1]  \n",
       "1         [1, 1]  \n",
       "2         [0, 1]  \n",
       "3         [0, 0]  \n",
       "4         [0, 1]  "
      ]
     },
     "execution_count": 268,
     "metadata": {},
     "output_type": "execute_result"
    }
   ],
   "source": [
    "metaphor_df.head()"
   ]
  },
  {
   "cell_type": "code",
   "execution_count": 270,
   "id": "ec81a539",
   "metadata": {},
   "outputs": [],
   "source": [
    "hyperbole_conditions = [\n",
    "    (hyperbole_df[\"Hyperbole\"]==0) & (hyperbole_df[\"Metaphor\"]==0),\n",
    "    (hyperbole_df[\"Hyperbole\"]==0) & (hyperbole_df[\"Metaphor\"]==1),\n",
    "    (hyperbole_df[\"Hyperbole\"]==1) & (hyperbole_df[\"Metaphor\"]==0),\n",
    "    (hyperbole_df[\"Hyperbole\"]==1) & (hyperbole_df[\"Metaphor\"]==1)\n",
    "]\n",
    "metaphor_conditions = [\n",
    "    (metaphor_df[\"Hyperbole\"]==0) & (metaphor_df[\"Metaphor\"]==0),\n",
    "    (metaphor_df[\"Hyperbole\"]==0) & (metaphor_df[\"Metaphor\"]==1),\n",
    "    (metaphor_df[\"Hyperbole\"]==1) & (metaphor_df[\"Metaphor\"]==0),\n",
    "    (metaphor_df[\"Hyperbole\"]==1) & (metaphor_df[\"Metaphor\"]==1)\n",
    "]\n",
    "choices = [0,1,2,3]\n",
    "\n",
    "hyperbole_df[\"new\"] = np.select(hyperbole_conditions, choices)\n",
    "metaphor_df[\"new\"] = np.select(metaphor_conditions, choices)"
   ]
  },
  {
   "cell_type": "code",
   "execution_count": 272,
   "id": "b575e7b9",
   "metadata": {},
   "outputs": [
    {
     "data": {
      "text/html": [
       "<div>\n",
       "<style scoped>\n",
       "    .dataframe tbody tr th:only-of-type {\n",
       "        vertical-align: middle;\n",
       "    }\n",
       "\n",
       "    .dataframe tbody tr th {\n",
       "        vertical-align: top;\n",
       "    }\n",
       "\n",
       "    .dataframe thead th {\n",
       "        text-align: right;\n",
       "    }\n",
       "</style>\n",
       "<table border=\"1\" class=\"dataframe\">\n",
       "  <thead>\n",
       "    <tr style=\"text-align: right;\">\n",
       "      <th></th>\n",
       "      <th>Sentence</th>\n",
       "      <th>Hyperbole</th>\n",
       "      <th>Metaphor</th>\n",
       "      <th>one_hot_labels</th>\n",
       "      <th>new</th>\n",
       "    </tr>\n",
       "  </thead>\n",
       "  <tbody>\n",
       "    <tr>\n",
       "      <th>0</th>\n",
       "      <td>Insolent boy, I'll slash you to ribbons!</td>\n",
       "      <td>1</td>\n",
       "      <td>1</td>\n",
       "      <td>[1, 1]</td>\n",
       "      <td>3</td>\n",
       "    </tr>\n",
       "    <tr>\n",
       "      <th>1</th>\n",
       "      <td>The level of discombobulation in the realm of ...</td>\n",
       "      <td>1</td>\n",
       "      <td>1</td>\n",
       "      <td>[1, 1]</td>\n",
       "      <td>3</td>\n",
       "    </tr>\n",
       "    <tr>\n",
       "      <th>2</th>\n",
       "      <td>His eyes were very dark.</td>\n",
       "      <td>0</td>\n",
       "      <td>0</td>\n",
       "      <td>[0, 0]</td>\n",
       "      <td>0</td>\n",
       "    </tr>\n",
       "    <tr>\n",
       "      <th>3</th>\n",
       "      <td>It's been a long time since I found someone ni...</td>\n",
       "      <td>0</td>\n",
       "      <td>0</td>\n",
       "      <td>[0, 0]</td>\n",
       "      <td>0</td>\n",
       "    </tr>\n",
       "    <tr>\n",
       "      <th>4</th>\n",
       "      <td>Oh, you are soaked to the bone, monsieur.</td>\n",
       "      <td>1</td>\n",
       "      <td>1</td>\n",
       "      <td>[1, 1]</td>\n",
       "      <td>3</td>\n",
       "    </tr>\n",
       "  </tbody>\n",
       "</table>\n",
       "</div>"
      ],
      "text/plain": [
       "                                            Sentence  Hyperbole  Metaphor  \\\n",
       "0           Insolent boy, I'll slash you to ribbons!          1         1   \n",
       "1  The level of discombobulation in the realm of ...          1         1   \n",
       "2                           His eyes were very dark.          0         0   \n",
       "3  It's been a long time since I found someone ni...          0         0   \n",
       "4          Oh, you are soaked to the bone, monsieur.          1         1   \n",
       "\n",
       "  one_hot_labels  new  \n",
       "0         [1, 1]    3  \n",
       "1         [1, 1]    3  \n",
       "2         [0, 0]    0  \n",
       "3         [0, 0]    0  \n",
       "4         [1, 1]    3  "
      ]
     },
     "execution_count": 272,
     "metadata": {},
     "output_type": "execute_result"
    }
   ],
   "source": [
    "hyperbole_df.head()"
   ]
  },
  {
   "cell_type": "code",
   "execution_count": 271,
   "id": "fcfc1713",
   "metadata": {},
   "outputs": [
    {
     "data": {
      "text/html": [
       "<div>\n",
       "<style scoped>\n",
       "    .dataframe tbody tr th:only-of-type {\n",
       "        vertical-align: middle;\n",
       "    }\n",
       "\n",
       "    .dataframe tbody tr th {\n",
       "        vertical-align: top;\n",
       "    }\n",
       "\n",
       "    .dataframe thead th {\n",
       "        text-align: right;\n",
       "    }\n",
       "</style>\n",
       "<table border=\"1\" class=\"dataframe\">\n",
       "  <thead>\n",
       "    <tr style=\"text-align: right;\">\n",
       "      <th></th>\n",
       "      <th>Sentence</th>\n",
       "      <th>Hyperbole</th>\n",
       "      <th>Metaphor</th>\n",
       "      <th>one_hot_labels</th>\n",
       "      <th>new</th>\n",
       "    </tr>\n",
       "  </thead>\n",
       "  <tbody>\n",
       "    <tr>\n",
       "      <th>0</th>\n",
       "      <td>\"They are the blood of the election process ,\"...</td>\n",
       "      <td>1</td>\n",
       "      <td>1</td>\n",
       "      <td>[1, 1]</td>\n",
       "      <td>3</td>\n",
       "    </tr>\n",
       "    <tr>\n",
       "      <th>1</th>\n",
       "      <td>With 70 percent of them receiving a free or re...</td>\n",
       "      <td>1</td>\n",
       "      <td>1</td>\n",
       "      <td>[1, 1]</td>\n",
       "      <td>3</td>\n",
       "    </tr>\n",
       "    <tr>\n",
       "      <th>2</th>\n",
       "      <td>\"This action reflects the board's belief that ...</td>\n",
       "      <td>0</td>\n",
       "      <td>1</td>\n",
       "      <td>[0, 1]</td>\n",
       "      <td>1</td>\n",
       "    </tr>\n",
       "    <tr>\n",
       "      <th>3</th>\n",
       "      <td>You know who else carried a gun ?</td>\n",
       "      <td>0</td>\n",
       "      <td>0</td>\n",
       "      <td>[0, 0]</td>\n",
       "      <td>0</td>\n",
       "    </tr>\n",
       "    <tr>\n",
       "      <th>4</th>\n",
       "      <td>Income Group Income Range Arizona State &amp; Loca...</td>\n",
       "      <td>0</td>\n",
       "      <td>1</td>\n",
       "      <td>[0, 1]</td>\n",
       "      <td>1</td>\n",
       "    </tr>\n",
       "  </tbody>\n",
       "</table>\n",
       "</div>"
      ],
      "text/plain": [
       "                                            Sentence  Hyperbole  Metaphor  \\\n",
       "0  \"They are the blood of the election process ,\"...          1         1   \n",
       "1  With 70 percent of them receiving a free or re...          1         1   \n",
       "2  \"This action reflects the board's belief that ...          0         1   \n",
       "3                  You know who else carried a gun ?          0         0   \n",
       "4  Income Group Income Range Arizona State & Loca...          0         1   \n",
       "\n",
       "  one_hot_labels  new  \n",
       "0         [1, 1]    3  \n",
       "1         [1, 1]    3  \n",
       "2         [0, 1]    1  \n",
       "3         [0, 0]    0  \n",
       "4         [0, 1]    1  "
      ]
     },
     "execution_count": 271,
     "metadata": {},
     "output_type": "execute_result"
    }
   ],
   "source": [
    "metaphor_df.head()"
   ]
  },
  {
   "cell_type": "code",
   "execution_count": 273,
   "id": "33e6509c",
   "metadata": {},
   "outputs": [
    {
     "name": "stdout",
     "output_type": "stream",
     "text": [
      "0    796\n",
      "1    622\n",
      "Name: Metaphor, dtype: int64\n",
      "1    709\n",
      "0    709\n",
      "Name: Hyperbole, dtype: int64\n",
      "0    602\n",
      "3    515\n",
      "2    194\n",
      "1    107\n",
      "Name: new, dtype: int64\n",
      "1    1217\n",
      "0     817\n",
      "Name: Metaphor, dtype: int64\n",
      "0    1400\n",
      "1     634\n",
      "Name: Hyperbole, dtype: int64\n",
      "1    700\n",
      "0    700\n",
      "3    517\n",
      "2    117\n",
      "Name: new, dtype: int64\n"
     ]
    }
   ],
   "source": [
    "print(hyperbole_df[\"Metaphor\"].value_counts())\n",
    "print(hyperbole_df[\"Hyperbole\"].value_counts())\n",
    "print(hyperbole_df.new.value_counts())\n",
    "\n",
    "print(metaphor_df[\"Metaphor\"].value_counts())\n",
    "print(metaphor_df[\"Hyperbole\"].value_counts())\n",
    "print(metaphor_df.new.value_counts())\n",
    "\n",
    "# y= df[\"new\"].values"
   ]
  },
  {
   "cell_type": "code",
   "execution_count": 275,
   "id": "cf79a35c",
   "metadata": {},
   "outputs": [],
   "source": [
    "# labels = list(df.one_hot_labels.values)\n",
    "# comments = list(df.Sentence.values)"
   ]
  },
  {
   "cell_type": "code",
   "execution_count": 276,
   "id": "56a4dab2",
   "metadata": {},
   "outputs": [],
   "source": [
    "# df.rename(columns = {\"Sentence\":\"sentence\", \"Hyperbole\":\"target\"}, inplace=True)\n",
    "# df.head()"
   ]
  },
  {
   "cell_type": "code",
   "execution_count": 277,
   "id": "378a2950",
   "metadata": {},
   "outputs": [],
   "source": [
    "hyperbole_df_hyp_labels = hyperbole_df.Hyperbole.values\n",
    "hyperbole_df_met_labels = hyperbole_df.Metaphor.values\n",
    "\n",
    "metaphor_df_hyp_labels = metaphor_df.Hyperbole.values\n",
    "metaphor_df_met_labels = metaphor_df.Metaphor.values"
   ]
  },
  {
   "cell_type": "code",
   "execution_count": 278,
   "id": "54ac3665",
   "metadata": {},
   "outputs": [],
   "source": [
    "hyp_new_labels = hyperbole_df.new.values\n",
    "met_new_labels = metaphor_df.new.values"
   ]
  },
  {
   "cell_type": "code",
   "execution_count": 280,
   "id": "c6ef8609",
   "metadata": {},
   "outputs": [
    {
     "data": {
      "text/plain": [
       "array([\"Insolent boy, I'll slash you to ribbons!\",\n",
       "       'The level of discombobulation in the realm of global politics is simply colossal.',\n",
       "       'His eyes were very dark.', ..., 'Another idea gone wasted.',\n",
       "       'My hair is very straight.',\n",
       "       'He has a very impressive knowledge about the impressionists.'],\n",
       "      dtype=object)"
      ]
     },
     "execution_count": 280,
     "metadata": {},
     "output_type": "execute_result"
    }
   ],
   "source": [
    "np.array(hyperbole_df.Sentence)"
   ]
  },
  {
   "cell_type": "code",
   "execution_count": 281,
   "id": "9dd836b5",
   "metadata": {},
   "outputs": [
    {
     "data": {
      "text/plain": [
       "array(['\"They are the blood of the election process ,\" Huneycutt said.',\n",
       "       \"With 70 percent of them receiving a free or reduced-price lunch and with DC's child poverty rate well above the national average, poverty is a mountain that children in our nation's capital climb daily.\",\n",
       "       '\"This action reflects the board\\'s belief that the share price significantly undervalues Vodafone.\"',\n",
       "       ...,\n",
       "       'The policy is a prescription for social, economic and bureaucratic mayhem masquerading as muscular enforcement.',\n",
       "       'Congress too must encourage and support American diplomatic leadership .',\n",
       "       'Isn\\'t it ironic how the \"Great Society\" and the \" War on Poverty \" created a tax paid mostly by the poor and middle class?'],\n",
       "      dtype=object)"
      ]
     },
     "execution_count": 281,
     "metadata": {},
     "output_type": "execute_result"
    }
   ],
   "source": [
    "np.array(metaphor_df.Sentence)"
   ]
  },
  {
   "cell_type": "code",
   "execution_count": 284,
   "id": "cb4002e3",
   "metadata": {},
   "outputs": [],
   "source": [
    "random_state = [42,101,2020]"
   ]
  },
  {
   "cell_type": "code",
   "execution_count": 285,
   "id": "61dec77a",
   "metadata": {},
   "outputs": [],
   "source": [
    "for r in random_state:\n",
    "    kf = StratifiedKFold(n_splits=10, random_state=r, shuffle=True)\n",
    "    for i,(train_index,validation_index) in enumerate(kf.split(hyperbole_df.Sentence.to_list(),hyp_new_labels)):\n",
    "        temp_dict = {\"sentence\":np.array(hyperbole_df.Sentence)[train_index], \"label\": hyperbole_df_hyp_labels[train_index]}\n",
    "        temp_df = pd.DataFrame(temp_dict)\n",
    "        temp_df[\"id\"] = temp_df.index\n",
    "        temp_df.to_csv(\"../data/hyperbole_mtl/\"+\"train_\"+str(r)+\"_\"+str(i)+\".csv\", index=False)\n",
    "        \n",
    "        temp_dict = {\"sentence\":np.array(hyperbole_df.Sentence)[validation_index], \"label\": hyperbole_df_hyp_labels[validation_index]}\n",
    "        temp_df = pd.DataFrame(temp_dict)\n",
    "        temp_df[\"id\"] = temp_df.index\n",
    "        temp_df.to_csv(\"../data/hyperbole_mtl/\"+\"val_\"+str(r)+\"_\"+str(i)+\".csv\", index=False)\n",
    "    for i,(train_index,validation_index) in enumerate(kf.split(metaphor_df.Sentence.to_list(),met_new_labels)):\n",
    "        temp_dict = {\"sentence\":np.array(metaphor_df.Sentence)[train_index], \"label\": metaphor_df_met_labels[train_index]}\n",
    "        temp_df = pd.DataFrame(temp_dict)\n",
    "        temp_df[\"id\"] = temp_df.index\n",
    "        temp_df.to_csv(\"../data/metaphor_mtl/\"+\"train_\"+str(r)+\"_\"+str(i)+\".csv\", index=False)\n",
    "        \n",
    "        temp_dict = {\"sentence\":np.array(metaphor_df.Sentence)[validation_index], \"label\": metaphor_df_met_labels[validation_index]}\n",
    "        temp_df = pd.DataFrame(temp_dict)\n",
    "        temp_df[\"id\"] = temp_df.index\n",
    "        temp_df.to_csv(\"../data/metaphor_mtl/\"+\"val_\"+str(r)+\"_\"+str(i)+\".csv\", index=False)"
   ]
  },
  {
   "cell_type": "code",
   "execution_count": null,
   "id": "d123ad1d",
   "metadata": {},
   "outputs": [],
   "source": [
    "import json\n",
    "f = []\n",
    "with open(\"../data/results/hyperbole.json\", \"w\") as file:\n",
    "    json.dump(f, file)\n",
    "with open(\"../data/results/metaphor.json\", \"w\") as file:\n",
    "    json.dump(f, file)"
   ]
  },
  {
   "cell_type": "code",
   "execution_count": 2,
   "id": "20bfc635",
   "metadata": {},
   "outputs": [],
   "source": [
    "import pandas as pd"
   ]
  },
  {
   "cell_type": "code",
   "execution_count": 13,
   "id": "a8f4c5ab",
   "metadata": {},
   "outputs": [],
   "source": [
    "bias_df = pd.read_csv('MTL-E/dataset/StereoSet/train.csv')\n",
    "bias_df['id'] = bias_df.index+1\n",
    "bias_df.to_csv('MTL-E/dataset/StereoSet/train.csv', index=False)"
   ]
  },
  {
   "cell_type": "code",
   "execution_count": null,
   "id": "740e4364",
   "metadata": {},
   "outputs": [],
   "source": []
  }
 ],
 "metadata": {
  "kernelspec": {
   "display_name": "Python 3 (ipykernel)",
   "language": "python",
   "name": "python3"
  },
  "language_info": {
   "codemirror_mode": {
    "name": "ipython",
    "version": 3
   },
   "file_extension": ".py",
   "mimetype": "text/x-python",
   "name": "python",
   "nbconvert_exporter": "python",
   "pygments_lexer": "ipython3",
   "version": "3.12.3"
  }
 },
 "nbformat": 4,
 "nbformat_minor": 5
}
